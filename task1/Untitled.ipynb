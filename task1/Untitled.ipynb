{
 "cells": [
  {
   "cell_type": "code",
   "execution_count": 1,
   "metadata": {},
   "outputs": [],
   "source": [
    "import pandas as pd\n",
    "df=pd.read_csv('data/NVDA.csv')"
   ]
  },
  {
   "cell_type": "code",
   "execution_count": 2,
   "metadata": {},
   "outputs": [
    {
     "data": {
      "text/html": [
       "<div>\n",
       "<style scoped>\n",
       "    .dataframe tbody tr th:only-of-type {\n",
       "        vertical-align: middle;\n",
       "    }\n",
       "\n",
       "    .dataframe tbody tr th {\n",
       "        vertical-align: top;\n",
       "    }\n",
       "\n",
       "    .dataframe thead th {\n",
       "        text-align: right;\n",
       "    }\n",
       "</style>\n",
       "<table border=\"1\" class=\"dataframe\">\n",
       "  <thead>\n",
       "    <tr style=\"text-align: right;\">\n",
       "      <th></th>\n",
       "      <th>0</th>\n",
       "      <th>1</th>\n",
       "      <th>2</th>\n",
       "    </tr>\n",
       "  </thead>\n",
       "  <tbody>\n",
       "    <tr>\n",
       "      <th>Date</th>\n",
       "      <td>1999-01-22</td>\n",
       "      <td>1999-01-25</td>\n",
       "      <td>1999-01-26</td>\n",
       "    </tr>\n",
       "    <tr>\n",
       "      <th>Open</th>\n",
       "      <td>1.75</td>\n",
       "      <td>1.77083</td>\n",
       "      <td>1.83333</td>\n",
       "    </tr>\n",
       "    <tr>\n",
       "      <th>High</th>\n",
       "      <td>1.95312</td>\n",
       "      <td>1.83333</td>\n",
       "      <td>1.86979</td>\n",
       "    </tr>\n",
       "    <tr>\n",
       "      <th>Low</th>\n",
       "      <td>1.55208</td>\n",
       "      <td>1.64062</td>\n",
       "      <td>1.64583</td>\n",
       "    </tr>\n",
       "    <tr>\n",
       "      <th>Close</th>\n",
       "      <td>1.64062</td>\n",
       "      <td>1.8125</td>\n",
       "      <td>1.67188</td>\n",
       "    </tr>\n",
       "    <tr>\n",
       "      <th>Adj Close</th>\n",
       "      <td>1.50841</td>\n",
       "      <td>1.66644</td>\n",
       "      <td>1.53714</td>\n",
       "    </tr>\n",
       "    <tr>\n",
       "      <th>Volume</th>\n",
       "      <td>67867200</td>\n",
       "      <td>12762000</td>\n",
       "      <td>8580000</td>\n",
       "    </tr>\n",
       "  </tbody>\n",
       "</table>\n",
       "</div>"
      ],
      "text/plain": [
       "                    0           1           2\n",
       "Date       1999-01-22  1999-01-25  1999-01-26\n",
       "Open             1.75     1.77083     1.83333\n",
       "High          1.95312     1.83333     1.86979\n",
       "Low           1.55208     1.64062     1.64583\n",
       "Close         1.64062      1.8125     1.67188\n",
       "Adj Close     1.50841     1.66644     1.53714\n",
       "Volume       67867200    12762000     8580000"
      ]
     },
     "execution_count": 2,
     "metadata": {},
     "output_type": "execute_result"
    }
   ],
   "source": [
    "df.head(3).T"
   ]
  },
  {
   "cell_type": "code",
   "execution_count": 36,
   "metadata": {},
   "outputs": [
    {
     "name": "stdout",
     "output_type": "stream",
     "text": [
      "data frames read:['datatable', 'datatable2', 'NVDA', 'GCF', 'JPM', 'SPY']\n",
      "local variables with the same names are created.\n"
     ]
    }
   ],
   "source": [
    "import numpy as np, pandas as pd\n",
    "import glob, re\n",
    "\n",
    "dfs = { re.search('/([^/\\.]*)\\.csv', fn).group(1):pd.read_csv(fn) for fn in glob.glob('./data/*.csv')}\n",
    "print('data frames read:{}'.format(list(dfs.keys())))\n",
    "\n",
    "print('local variables with the same names are created.')\n",
    "for k, v in dfs.items(): locals()[k] = v"
   ]
  },
  {
   "cell_type": "code",
   "execution_count": 37,
   "metadata": {},
   "outputs": [
    {
     "data": {
      "text/plain": [
       "pandas.core.frame.DataFrame"
      ]
     },
     "execution_count": 37,
     "metadata": {},
     "output_type": "execute_result"
    }
   ],
   "source": [
    "type(dfs)"
   ]
  },
  {
   "cell_type": "code",
   "execution_count": 5,
   "metadata": {},
   "outputs": [
    {
     "data": {
      "text/plain": [
       "dict_keys(['data-table2', 'NVDA', 'GCF', 'JPM', 'SPY', 'data-table'])"
      ]
     },
     "execution_count": 5,
     "metadata": {},
     "output_type": "execute_result"
    }
   ],
   "source": [
    "dfs.keys()"
   ]
  },
  {
   "cell_type": "code",
   "execution_count": 38,
   "metadata": {},
   "outputs": [
    {
     "data": {
      "text/html": [
       "<div>\n",
       "<style scoped>\n",
       "    .dataframe tbody tr th:only-of-type {\n",
       "        vertical-align: middle;\n",
       "    }\n",
       "\n",
       "    .dataframe tbody tr th {\n",
       "        vertical-align: top;\n",
       "    }\n",
       "\n",
       "    .dataframe thead th {\n",
       "        text-align: right;\n",
       "    }\n",
       "</style>\n",
       "<table border=\"1\" class=\"dataframe\">\n",
       "  <thead>\n",
       "    <tr style=\"text-align: right;\">\n",
       "      <th></th>\n",
       "      <th>0</th>\n",
       "      <th>1</th>\n",
       "      <th>2</th>\n",
       "      <th>3</th>\n",
       "      <th>4</th>\n",
       "    </tr>\n",
       "  </thead>\n",
       "  <tbody>\n",
       "    <tr>\n",
       "      <th>Laikotarpis</th>\n",
       "      <td>2021M03</td>\n",
       "      <td>2021M02</td>\n",
       "      <td>2021M02</td>\n",
       "      <td>2021M02</td>\n",
       "      <td>2021M01</td>\n",
       "    </tr>\n",
       "    <tr>\n",
       "      <th>Rodiklis</th>\n",
       "      <td>Nuolatinių gyventojų skaičius mėnesio pradžioje</td>\n",
       "      <td>Nuolatinių gyventojų skaičius mėnesio pradžioje</td>\n",
       "      <td>Mėnesinis gyvų gimusių kūdikių skaičius</td>\n",
       "      <td>Mėnesinis mirusiųjų skaičius</td>\n",
       "      <td>Nuolatinių gyventojų skaičius mėnesio pradžioje</td>\n",
       "    </tr>\n",
       "    <tr>\n",
       "      <th>Matavimo vienetai</th>\n",
       "      <td>asmenys</td>\n",
       "      <td>asmenys</td>\n",
       "      <td>asmenys</td>\n",
       "      <td>asmenys</td>\n",
       "      <td>asmenys</td>\n",
       "    </tr>\n",
       "    <tr>\n",
       "      <th>Reikšmė</th>\n",
       "      <td>2790044</td>\n",
       "      <td>2792155</td>\n",
       "      <td>1624</td>\n",
       "      <td>3740</td>\n",
       "      <td>2795175</td>\n",
       "    </tr>\n",
       "  </tbody>\n",
       "</table>\n",
       "</div>"
      ],
      "text/plain": [
       "                                                                 0  \\\n",
       "Laikotarpis                                                2021M03   \n",
       "Rodiklis           Nuolatinių gyventojų skaičius mėnesio pradžioje   \n",
       "Matavimo vienetai                                          asmenys   \n",
       "Reikšmė                                                    2790044   \n",
       "\n",
       "                                                                 1  \\\n",
       "Laikotarpis                                                2021M02   \n",
       "Rodiklis           Nuolatinių gyventojų skaičius mėnesio pradžioje   \n",
       "Matavimo vienetai                                          asmenys   \n",
       "Reikšmė                                                    2792155   \n",
       "\n",
       "                                                         2  \\\n",
       "Laikotarpis                                        2021M02   \n",
       "Rodiklis           Mėnesinis gyvų gimusių kūdikių skaičius   \n",
       "Matavimo vienetai                                  asmenys   \n",
       "Reikšmė                                               1624   \n",
       "\n",
       "                                              3  \\\n",
       "Laikotarpis                             2021M02   \n",
       "Rodiklis           Mėnesinis mirusiųjų skaičius   \n",
       "Matavimo vienetai                       asmenys   \n",
       "Reikšmė                                    3740   \n",
       "\n",
       "                                                                 4  \n",
       "Laikotarpis                                                2021M01  \n",
       "Rodiklis           Nuolatinių gyventojų skaičius mėnesio pradžioje  \n",
       "Matavimo vienetai                                          asmenys  \n",
       "Reikšmė                                                    2795175  "
      ]
     },
     "execution_count": 38,
     "metadata": {},
     "output_type": "execute_result"
    }
   ],
   "source": [
    "datatable.head().T"
   ]
  },
  {
   "cell_type": "code",
   "execution_count": 39,
   "metadata": {},
   "outputs": [
    {
     "data": {
      "text/html": [
       "<div>\n",
       "<style scoped>\n",
       "    .dataframe tbody tr th:only-of-type {\n",
       "        vertical-align: middle;\n",
       "    }\n",
       "\n",
       "    .dataframe tbody tr th {\n",
       "        vertical-align: top;\n",
       "    }\n",
       "\n",
       "    .dataframe thead th {\n",
       "        text-align: right;\n",
       "    }\n",
       "</style>\n",
       "<table border=\"1\" class=\"dataframe\">\n",
       "  <thead>\n",
       "    <tr style=\"text-align: right;\">\n",
       "      <th></th>\n",
       "      <th>0</th>\n",
       "      <th>1</th>\n",
       "      <th>2</th>\n",
       "      <th>3</th>\n",
       "      <th>4</th>\n",
       "    </tr>\n",
       "  </thead>\n",
       "  <tbody>\n",
       "    <tr>\n",
       "      <th>Laikotarpis</th>\n",
       "      <td>2021M03</td>\n",
       "      <td>2021M02</td>\n",
       "      <td>2021M02</td>\n",
       "      <td>2021M02</td>\n",
       "      <td>2021M01</td>\n",
       "    </tr>\n",
       "    <tr>\n",
       "      <th>Rodiklis</th>\n",
       "      <td>Nuolatinių gyventojų skaičius mėnesio pradžioje</td>\n",
       "      <td>Nuolatinių gyventojų skaičius mėnesio pradžioje</td>\n",
       "      <td>Mėnesinis gyvų gimusių kūdikių skaičius</td>\n",
       "      <td>Mėnesinis mirusiųjų skaičius</td>\n",
       "      <td>Nuolatinių gyventojų skaičius mėnesio pradžioje</td>\n",
       "    </tr>\n",
       "    <tr>\n",
       "      <th>Matavimo vienetai</th>\n",
       "      <td>asmenys</td>\n",
       "      <td>asmenys</td>\n",
       "      <td>asmenys</td>\n",
       "      <td>asmenys</td>\n",
       "      <td>asmenys</td>\n",
       "    </tr>\n",
       "    <tr>\n",
       "      <th>Reikšmė</th>\n",
       "      <td>2790044</td>\n",
       "      <td>2792155</td>\n",
       "      <td>1624</td>\n",
       "      <td>3740</td>\n",
       "      <td>2795175</td>\n",
       "    </tr>\n",
       "  </tbody>\n",
       "</table>\n",
       "</div>"
      ],
      "text/plain": [
       "                                                                 0  \\\n",
       "Laikotarpis                                                2021M03   \n",
       "Rodiklis           Nuolatinių gyventojų skaičius mėnesio pradžioje   \n",
       "Matavimo vienetai                                          asmenys   \n",
       "Reikšmė                                                    2790044   \n",
       "\n",
       "                                                                 1  \\\n",
       "Laikotarpis                                                2021M02   \n",
       "Rodiklis           Nuolatinių gyventojų skaičius mėnesio pradžioje   \n",
       "Matavimo vienetai                                          asmenys   \n",
       "Reikšmė                                                    2792155   \n",
       "\n",
       "                                                         2  \\\n",
       "Laikotarpis                                        2021M02   \n",
       "Rodiklis           Mėnesinis gyvų gimusių kūdikių skaičius   \n",
       "Matavimo vienetai                                  asmenys   \n",
       "Reikšmė                                               1624   \n",
       "\n",
       "                                              3  \\\n",
       "Laikotarpis                             2021M02   \n",
       "Rodiklis           Mėnesinis mirusiųjų skaičius   \n",
       "Matavimo vienetai                       asmenys   \n",
       "Reikšmė                                    3740   \n",
       "\n",
       "                                                                 4  \n",
       "Laikotarpis                                                2021M01  \n",
       "Rodiklis           Nuolatinių gyventojų skaičius mėnesio pradžioje  \n",
       "Matavimo vienetai                                          asmenys  \n",
       "Reikšmė                                                    2795175  "
      ]
     },
     "execution_count": 39,
     "metadata": {},
     "output_type": "execute_result"
    }
   ],
   "source": [
    "datatable.head().T"
   ]
  },
  {
   "cell_type": "code",
   "execution_count": 18,
   "metadata": {},
   "outputs": [
    {
     "data": {
      "text/html": [
       "<div>\n",
       "<style scoped>\n",
       "    .dataframe tbody tr th:only-of-type {\n",
       "        vertical-align: middle;\n",
       "    }\n",
       "\n",
       "    .dataframe tbody tr th {\n",
       "        vertical-align: top;\n",
       "    }\n",
       "\n",
       "    .dataframe thead th {\n",
       "        text-align: right;\n",
       "    }\n",
       "</style>\n",
       "<table border=\"1\" class=\"dataframe\">\n",
       "  <thead>\n",
       "    <tr style=\"text-align: right;\">\n",
       "      <th></th>\n",
       "      <th>0</th>\n",
       "      <th>1</th>\n",
       "      <th>2</th>\n",
       "      <th>3</th>\n",
       "      <th>4</th>\n",
       "    </tr>\n",
       "  </thead>\n",
       "  <tbody>\n",
       "    <tr>\n",
       "      <th>Date</th>\n",
       "      <td>1999-01-22</td>\n",
       "      <td>1999-01-25</td>\n",
       "      <td>1999-01-26</td>\n",
       "      <td>1999-01-27</td>\n",
       "      <td>1999-01-28</td>\n",
       "    </tr>\n",
       "    <tr>\n",
       "      <th>Open</th>\n",
       "      <td>1.75</td>\n",
       "      <td>1.77083</td>\n",
       "      <td>1.83333</td>\n",
       "      <td>1.67708</td>\n",
       "      <td>1.66667</td>\n",
       "    </tr>\n",
       "    <tr>\n",
       "      <th>High</th>\n",
       "      <td>1.95312</td>\n",
       "      <td>1.83333</td>\n",
       "      <td>1.86979</td>\n",
       "      <td>1.71875</td>\n",
       "      <td>1.67708</td>\n",
       "    </tr>\n",
       "    <tr>\n",
       "      <th>Low</th>\n",
       "      <td>1.55208</td>\n",
       "      <td>1.64062</td>\n",
       "      <td>1.64583</td>\n",
       "      <td>1.58333</td>\n",
       "      <td>1.65104</td>\n",
       "    </tr>\n",
       "    <tr>\n",
       "      <th>Close</th>\n",
       "      <td>1.64062</td>\n",
       "      <td>1.8125</td>\n",
       "      <td>1.67188</td>\n",
       "      <td>1.66667</td>\n",
       "      <td>1.66146</td>\n",
       "    </tr>\n",
       "    <tr>\n",
       "      <th>Adj Close</th>\n",
       "      <td>1.50841</td>\n",
       "      <td>1.66644</td>\n",
       "      <td>1.53714</td>\n",
       "      <td>1.53235</td>\n",
       "      <td>1.52757</td>\n",
       "    </tr>\n",
       "    <tr>\n",
       "      <th>Volume</th>\n",
       "      <td>67867200</td>\n",
       "      <td>12762000</td>\n",
       "      <td>8580000</td>\n",
       "      <td>6109200</td>\n",
       "      <td>5688000</td>\n",
       "    </tr>\n",
       "    <tr>\n",
       "      <th>diff</th>\n",
       "      <td>-0.109375</td>\n",
       "      <td>0.041667</td>\n",
       "      <td>-0.161458</td>\n",
       "      <td>-0.010416</td>\n",
       "      <td>-0.005209</td>\n",
       "    </tr>\n",
       "  </tbody>\n",
       "</table>\n",
       "</div>"
      ],
      "text/plain": [
       "                    0           1           2           3           4\n",
       "Date       1999-01-22  1999-01-25  1999-01-26  1999-01-27  1999-01-28\n",
       "Open             1.75     1.77083     1.83333     1.67708     1.66667\n",
       "High          1.95312     1.83333     1.86979     1.71875     1.67708\n",
       "Low           1.55208     1.64062     1.64583     1.58333     1.65104\n",
       "Close         1.64062      1.8125     1.67188     1.66667     1.66146\n",
       "Adj Close     1.50841     1.66644     1.53714     1.53235     1.52757\n",
       "Volume       67867200    12762000     8580000     6109200     5688000\n",
       "diff        -0.109375    0.041667   -0.161458   -0.010416   -0.005209"
      ]
     },
     "execution_count": 18,
     "metadata": {},
     "output_type": "execute_result"
    }
   ],
   "source": [
    "NVDA.head().T"
   ]
  },
  {
   "cell_type": "code",
   "execution_count": 22,
   "metadata": {},
   "outputs": [
    {
     "data": {
      "text/plain": [
       "<AxesSubplot:xlabel='Date'>"
      ]
     },
     "execution_count": 22,
     "metadata": {},
     "output_type": "execute_result"
    },
    {
     "data": {
      "image/png": "[encoded data removed]",
      "text/plain": [
       "<Figure size 432x288 with 1 Axes>"
      ]
     },
     "metadata": {
      "needs_background": "light"
     },
     "output_type": "display_data"
    }
   ],
   "source": [
    "from matplotlib import pyplot\n",
    "tseries = NVDA[[\"Date\", \"Close\"]]\n",
    "tseries.plot(\"Date\")"
   ]
  },
  {
   "cell_type": "code",
   "execution_count": 23,
   "metadata": {},
   "outputs": [
    {
     "data": {
      "text/plain": [
       "<AxesSubplot:xlabel='Date'>"
      ]
     },
     "execution_count": 23,
     "metadata": {},
     "output_type": "execute_result"
    },
    {
     "data": {
      "image/png": "[encoded data removed]",
      "text/plain": [
       "<Figure size 432x288 with 1 Axes>"
      ]
     },
     "metadata": {
      "needs_background": "light"
     },
     "output_type": "display_data"
    }
   ],
   "source": [
    "NVDA[\"diff\"] = NVDA[\"Close\"] - NVDA[\"Open\"]\n",
    "tseries2 = NVDA[[\"Date\", \"diff\"]]\n",
    "tseries2.plot(\"Date\")"
   ]
  },
  {
   "cell_type": "code",
   "execution_count": 24,
   "metadata": {},
   "outputs": [
    {
     "data": {
      "image/png": "[encoded data removed]",
      "text/plain": [
       "<Figure size 432x288 with 1 Axes>"
      ]
     },
     "metadata": {
      "needs_background": "light"
     },
     "output_type": "display_data"
    }
   ],
   "source": [
    "from statsmodels.graphics.tsaplots import plot_acf\n",
    "plot_acf(tseries2[\"diff\"], lags = 20)\n",
    "pyplot.show()"
   ]
  },
  {
   "cell_type": "code",
   "execution_count": null,
   "metadata": {},
   "outputs": [],
   "source": []
  },
  {
   "cell_type": "code",
   "execution_count": 25,
   "metadata": {},
   "outputs": [
    {
     "data": {
      "image/png": "[encoded data removed]",
      "text/plain": [
       "<Figure size 720x576 with 1 Axes>"
      ]
     },
     "metadata": {
      "needs_background": "light"
     },
     "output_type": "display_data"
    }
   ],
   "source": [
    "import pandas as pd\n",
    "import matplotlib.pyplot as plt\n",
    "import statsmodels.api as sm\n",
    "from matplotlib.collections import PolyCollection\n",
    "\n",
    "#sample data from their website\n",
    "dta = sm.datasets.sunspots.load_pandas().data\n",
    "dta.index = pd.Index(sm.tsa.datetools.dates_from_range('1700', '2008'))\n",
    "del dta[\"YEAR\"]\n",
    "\n",
    "curr_fig, curr_ax = plt.subplots(figsize=(10, 8))\n",
    "\n",
    "my_color=\"red\"\n",
    "#change the color of the vlines\n",
    "sm.graphics.tsa.plot_acf(tseries[[\"Close\"]].values.squeeze(), lags=100, ax=curr_ax, color=my_color, vlines_kwargs={\"colors\": my_color})\n",
    "#get polygon patch collections and change their color\n",
    "for item in curr_ax.collections:\n",
    "    if type(item)==PolyCollection:\n",
    "        item.set_facecolor(my_color)\n",
    "\n",
    "plt.show()"
   ]
  },
  {
   "cell_type": "code",
   "execution_count": 26,
   "metadata": {},
   "outputs": [
    {
     "data": {
      "text/plain": [
       "array([-0.03125 ,  0.28125 ,  0.125   , ..., -2.940003,  1.320007,\n",
       "       -0.110015])"
      ]
     },
     "execution_count": 26,
     "metadata": {},
     "output_type": "execute_result"
    }
   ],
   "source": [
    "tseries2[[\"diff\"]].values.squeeze()"
   ]
  },
  {
   "cell_type": "code",
   "execution_count": 27,
   "metadata": {},
   "outputs": [
    {
     "name": "stderr",
     "output_type": "stream",
     "text": [
      "<ipython-input-27-ee442a654f18>:2: SettingWithCopyWarning: \n",
      "A value is trying to be set on a copy of a slice from a DataFrame.\n",
      "Try using .loc[row_indexer,col_indexer] = value instead\n",
      "\n",
      "See the caveats in the documentation: https://pandas.pydata.org/pandas-docs/stable/user_guide/indexing.html#returning-a-view-versus-a-copy\n",
      "  tseries2['Date'] = pd.to_datetime(tseries2['Date'])\n"
     ]
    }
   ],
   "source": [
    "import datetime as dt\n",
    "tseries2['Date'] = pd.to_datetime(tseries2['Date'])\n",
    "\n",
    "include = tseries2[tseries2['Date'].dt.year >= 2014]\n",
    "exclude = tseries2[tseries2['Date'].dt.year < 2014]"
   ]
  },
  {
   "cell_type": "code",
   "execution_count": 28,
   "metadata": {},
   "outputs": [
    {
     "data": {
      "image/png": "[encoded data removed]",
      "text/plain": [
       "<Figure size 432x288 with 1 Axes>"
      ]
     },
     "metadata": {
      "needs_background": "light"
     },
     "output_type": "display_data"
    }
   ],
   "source": [
    "plot_acf(include[\"diff\"].abs(), lags = 20)\n",
    "pyplot.show()"
   ]
  },
  {
   "cell_type": "code",
   "execution_count": 34,
   "metadata": {},
   "outputs": [
    {
     "data": {
      "image/png": "[encoded data removed]",
      "text/plain": [
       "<Figure size 432x288 with 1 Axes>"
      ]
     },
     "metadata": {
      "needs_background": "light"
     },
     "output_type": "display_data"
    }
   ],
   "source": [
    "plot_acf(include[\"diff\"].abs(), lags = 60)\n",
    "pyplot.show()"
   ]
  },
  {
   "cell_type": "code",
   "execution_count": 29,
   "metadata": {},
   "outputs": [
    {
     "data": {
      "image/png": "[encoded data removed]",
      "text/plain": [
       "<Figure size 432x288 with 1 Axes>"
      ]
     },
     "metadata": {
      "needs_background": "light"
     },
     "output_type": "display_data"
    }
   ],
   "source": [
    "plot_acf(tseries2[\"diff\"].abs(), lags = 20)\n",
    "pyplot.show()"
   ]
  },
  {
   "cell_type": "code",
   "execution_count": 30,
   "metadata": {},
   "outputs": [
    {
     "data": {
      "image/png": "[encoded data removed]",
      "text/plain": [
       "<Figure size 432x288 with 1 Axes>"
      ]
     },
     "metadata": {
      "needs_background": "light"
     },
     "output_type": "display_data"
    }
   ],
   "source": [
    "from statsmodels.graphics.tsaplots import plot_pacf\n",
    "plot_pacf(tseries2[\"diff\"], lags=50)\n",
    "pyplot.show()"
   ]
  },
  {
   "cell_type": "code",
   "execution_count": 31,
   "metadata": {},
   "outputs": [
    {
     "data": {
      "image/png": "[encoded data removed]",
      "text/plain": [
       "<Figure size 432x288 with 1 Axes>"
      ]
     },
     "metadata": {
      "needs_background": "light"
     },
     "output_type": "display_data"
    }
   ],
   "source": [
    "from statsmodels.graphics.tsaplots import plot_pacf\n",
    "plot_pacf(tseries2[\"diff\"].abs(), lags=50)\n",
    "pyplot.show()"
   ]
  }
 ],
 "metadata": {
  "kernelspec": {
   "display_name": "Python 3",
   "language": "python",
   "name": "python3"
  },
  "language_info": {
   "codemirror_mode": {
    "name": "ipython",
    "version": 3
   },
   "file_extension": ".py",
   "mimetype": "text/x-python",
   "name": "python",
   "nbconvert_exporter": "python",
   "pygments_lexer": "ipython3",
   "version": "3.8.5"
  }
 },
 "nbformat": 4,
 "nbformat_minor": 4
}
